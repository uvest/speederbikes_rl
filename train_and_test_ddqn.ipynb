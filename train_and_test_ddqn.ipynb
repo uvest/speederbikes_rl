{
 "cells": [
  {
   "cell_type": "code",
   "execution_count": 1,
   "metadata": {},
   "outputs": [],
   "source": [
    "import torch\n",
    "import numpy as np\n",
    "\n",
    "import gymnasium as gym\n",
    "import speederbikes_sim\n",
    "from ddqn.DDQNAgent import Agent\n",
    "from ddqn.DDQNTrainer import Trainer"
   ]
  },
  {
   "cell_type": "markdown",
   "metadata": {},
   "source": [
    "Training with a script:"
   ]
  },
  {
   "cell_type": "code",
   "execution_count": 2,
   "metadata": {},
   "outputs": [],
   "source": [
    "# !python train_ddqn.py"
   ]
  },
  {
   "cell_type": "markdown",
   "metadata": {},
   "source": [
    "Training with interactive code:"
   ]
  },
  {
   "cell_type": "code",
   "execution_count": 3,
   "metadata": {},
   "outputs": [
    {
     "name": "stdout",
     "output_type": "stream",
     "text": [
      "seed: 4\n"
     ]
    }
   ],
   "source": [
    "# setup all components\n",
    "sim_speedup = 10\n",
    "env = gym.make('speederbikes/SpeederBikes-v0', render_mode=\"human\", observation_mode=\"flatten\",\n",
    "                lvl_n_lanes=3, lvl_speed= 200 * sim_speedup, lvl_road_width= 350, \n",
    "                agt_speed= 200 * sim_speedup \n",
    "               )\n",
    "\n",
    "obs, info = env.reset()\n",
    "env.metadata[\"render_fps\"] = 60 * sim_speedup\n",
    "\n",
    "agent = Agent(env)\n",
    "\n",
    "trainer = Trainer(agent, update_every=8, \n",
    "                #   epochs=10, validation_interval=1000\n",
    "                  epochs=1000, validation_interval=20000\n",
    "                  )"
   ]
  },
  {
   "cell_type": "code",
   "execution_count": 4,
   "metadata": {},
   "outputs": [],
   "source": [
    "# for i in range(500):\n",
    "#     s, r, term, trunc, info = env.step(np.random.randint(1,3))\n",
    "# env.close()"
   ]
  },
  {
   "cell_type": "code",
   "execution_count": 4,
   "metadata": {},
   "outputs": [],
   "source": [
    "trainer.start()"
   ]
  },
  {
   "cell_type": "code",
   "execution_count": 6,
   "metadata": {},
   "outputs": [],
   "source": [
    "agent.save(trainer.storage_dir,agent.steps, inference=False)"
   ]
  },
  {
   "cell_type": "code",
   "execution_count": 6,
   "metadata": {},
   "outputs": [],
   "source": [
    "env.close()"
   ]
  },
  {
   "cell_type": "markdown",
   "metadata": {},
   "source": [
    "### Evaluation of a trained agent"
   ]
  },
  {
   "cell_type": "code",
   "execution_count": 7,
   "metadata": {},
   "outputs": [],
   "source": [
    "# setup all components\n",
    "sim_speedup = 10\n",
    "env = gym.make('speederbikes/SpeederBikes-v0', render_mode=\"human\", observation_mode=\"flatten\",\n",
    "                lvl_n_lanes=3, lvl_speed= 200 * sim_speedup, lvl_road_width= 350, \n",
    "                agt_speed= 200 * sim_speedup \n",
    "               )\n",
    "\n",
    "obs, info = env.reset()\n",
    "env.metadata[\"render_fps\"] = 60 * sim_speedup\n",
    "\n",
    "agent = Agent(env)\n",
    "agent.load(\"./trained_models/\") # load latest model (with most steps)\n",
    "\n",
    "tester = Trainer(agent)"
   ]
  },
  {
   "cell_type": "code",
   "execution_count": 8,
   "metadata": {},
   "outputs": [],
   "source": [
    "# display learning process\n",
    "import seaborn as sns\n",
    "import matplotlib.pyplot as plt\n",
    "import pandas as pd"
   ]
  },
  {
   "cell_type": "code",
   "execution_count": 9,
   "metadata": {},
   "outputs": [
    {
     "data": {
      "text/plain": [
       "<Axes: xlabel='sim_steps', ylabel='reward'>"
      ]
     },
     "execution_count": 9,
     "metadata": {},
     "output_type": "execute_result"
    },
    {
     "data": {
      "image/png": "[encoded data removed]",
      "text/plain": [
       "<Figure size 640x480 with 1 Axes>"
      ]
     },
     "metadata": {},
     "output_type": "display_data"
    }
   ],
   "source": [
    "sns.scatterplot(tester.past_training_rewards, x=\"sim_steps\", y=\"reward\")\n",
    "sns.scatterplot(tester.past_evaluation_scores, x=\"sim_steps\", y=\"eval_score\")\n",
    "\n",
    "# plt.scatter(x=tester.past_evaluation_scores[\"sim_steps\"].max(), y=tester.evaluate(5, aggregate=True))"
   ]
  },
  {
   "cell_type": "code",
   "execution_count": 4,
   "metadata": {},
   "outputs": [],
   "source": [
    "env.close()"
   ]
  },
  {
   "cell_type": "markdown",
   "metadata": {},
   "source": [
    "\n",
    "---\n",
    "\n",
    "testing the env"
   ]
  },
  {
   "cell_type": "code",
   "execution_count": 1,
   "metadata": {},
   "outputs": [],
   "source": [
    "import torch\n",
    "import numpy as np\n",
    "import matplotlib.pyplot as plt\n",
    "\n",
    "import gymnasium as gym\n",
    "import speederbikes_sim"
   ]
  },
  {
   "cell_type": "code",
   "execution_count": 2,
   "metadata": {},
   "outputs": [],
   "source": [
    "env = gym.make('speederbikes/SpeederBikes-v0', render_mode=\"rgb_array\", observation_mode=\"rgb_array_flatten\",\n",
    "                lvl_n_lanes=3, lvl_speed= 200, lvl_road_width= 350, \n",
    "                agt_speed= 200 \n",
    "               )"
   ]
  },
  {
   "cell_type": "code",
   "execution_count": 3,
   "metadata": {},
   "outputs": [
    {
     "name": "stderr",
     "output_type": "stream",
     "text": [
      "c:\\Users\\key\\.conda\\envs\\RL\\Lib\\site-packages\\gymnasium\\utils\\passive_env_checker.py:135: UserWarning: \u001b[33mWARN: The obs returned by the `reset()` method was expecting numpy array dtype to be int32, actual type: uint8\u001b[0m\n",
      "  logger.warn(\n"
     ]
    }
   ],
   "source": [
    "obs, inf = env.reset()"
   ]
  },
  {
   "cell_type": "code",
   "execution_count": 7,
   "metadata": {},
   "outputs": [
    {
     "data": {
      "text/plain": [
       "<matplotlib.image.AxesImage at 0x2452e9990d0>"
      ]
     },
     "execution_count": 7,
     "metadata": {},
     "output_type": "execute_result"
    },
    {
     "data": {
      "image/png": "[encoded data removed]",
      "text/plain": [
       "<Figure size 640x480 with 1 Axes>"
      ]
     },
     "metadata": {},
     "output_type": "display_data"
    }
   ],
   "source": [
    "plt.imshow(obs.reshape(512, 512, 3))"
   ]
  },
  {
   "cell_type": "code",
   "execution_count": 17,
   "metadata": {},
   "outputs": [],
   "source": [
    "env.close()"
   ]
  },
  {
   "cell_type": "markdown",
   "metadata": {},
   "source": [
    "---"
   ]
  }
 ],
 "metadata": {
  "kernelspec": {
   "display_name": "RL",
   "language": "python",
   "name": "python3"
  },
  "language_info": {
   "codemirror_mode": {
    "name": "ipython",
    "version": 3
   },
   "file_extension": ".py",
   "mimetype": "text/x-python",
   "name": "python",
   "nbconvert_exporter": "python",
   "pygments_lexer": "ipython3",
   "version": "3.11.4"
  }
 },
 "nbformat": 4,
 "nbformat_minor": 2
}
