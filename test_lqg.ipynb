{
 "cells": [
  {
   "cell_type": "code",
   "execution_count": 1,
   "metadata": {},
   "outputs": [],
   "source": [
    "import numpy as np\n",
    "\n",
    "import gymnasium as gym\n",
    "import speederbikes_sim\n",
    "from lqg.LQGAgent import Agent"
   ]
  },
  {
   "cell_type": "code",
   "execution_count": 2,
   "metadata": {},
   "outputs": [],
   "source": [
    "env = gym.make('speederbikes/SpeederBikes-v0', render_mode=\"human\", observation_mode=\"flatten\",\n",
    "                lvl_n_lanes=3, lvl_speed= 200, lvl_road_width= 350, \n",
    "                agt_speed= 200 \n",
    "               )\n",
    "\n",
    "obs, info = env.reset()\n",
    "\n",
    "agent = Agent(env)"
   ]
  },
  {
   "cell_type": "code",
   "execution_count": 5,
   "metadata": {},
   "outputs": [],
   "source": [
    "for _ in range(100):\n",
    "    action = agent.selectAction(0)\n",
    "    env.step(action)"
   ]
  },
  {
   "cell_type": "code",
   "execution_count": 248,
   "metadata": {},
   "outputs": [
    {
     "name": "stdout",
     "output_type": "stream",
     "text": [
      "[[409.         102.33333333   0.           0.           0.        ]\n",
      " [296.66666667   0.         114.         230.         344.        ]\n",
      " [ 76.66666667 230.         344.           0.           0.        ]\n",
      " [  0.           0.           0.           0.           0.        ]]\n"
     ]
    },
    {
     "data": {
      "text/plain": [
       "1"
      ]
     },
     "execution_count": 248,
     "metadata": {},
     "output_type": "execute_result"
    }
   ],
   "source": [
    "obs, rew, term, _, info = env.step(1)\n",
    "\n",
    "obs = obs.reshape(obs.shape[0]//5, 5)\n",
    "print(obs)\n",
    "\n",
    "agt_x = obs[0, 1]\n",
    "agt_y = obs[0, 0]\n",
    "\n",
    "# tar1\n",
    "i = 1\n",
    "while obs[i, 0] > agt_y:\n",
    "    i += 1\n"
   ]
  }
 ],
 "metadata": {
  "kernelspec": {
   "display_name": "RL",
   "language": "python",
   "name": "python3"
  },
  "language_info": {
   "codemirror_mode": {
    "name": "ipython",
    "version": 3
   },
   "file_extension": ".py",
   "mimetype": "text/x-python",
   "name": "python",
   "nbconvert_exporter": "python",
   "pygments_lexer": "ipython3",
   "version": "3.11.4"
  }
 },
 "nbformat": 4,
 "nbformat_minor": 2
}
